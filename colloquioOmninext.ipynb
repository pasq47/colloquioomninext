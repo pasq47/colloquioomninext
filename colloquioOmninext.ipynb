{
 "cells": [
  {
   "cell_type": "markdown",
   "id": "63ee78c1-782d-45ef-9a9a-1bde4107bf64",
   "metadata": {},
   "source": [
    "E' stata creata un unica API Getway con due endpoint:\n",
    "-createUser\n",
    "-getuserbyID"
   ]
  },
  {
   "cell_type": "markdown",
   "id": "3b213a7b-41d7-4973-b345-f3047f92e75c",
   "metadata": {},
   "source": [
    "https://5yi8g28lu8.execute-api.us-east-1.amazonaws.com"
   ]
  },
  {
   "cell_type": "markdown",
   "id": "8a5f7ecb-fab8-43ff-a5b8-2f0b5a431537",
   "metadata": {
    "tags": []
   },
   "source": [
    "## <span style=\"color:red\">ADDUSER</span>"
   ]
  },
  {
   "cell_type": "markdown",
   "id": "f8280b99-4faf-41f0-a1e1-a43687b518e4",
   "metadata": {},
   "source": [
    "**lambda function**"
   ]
  },
  {
   "cell_type": "code",
   "execution_count": 118,
   "id": "eb9dca10-7903-4498-b397-0c025a070d5b",
   "metadata": {},
   "outputs": [],
   "source": [
    "from boto3.dynamodb.types import TypeDeserializer"
   ]
  },
  {
   "cell_type": "code",
   "execution_count": 119,
   "id": "639e17ba-67ee-4632-bc71-30db9fccc725",
   "metadata": {},
   "outputs": [],
   "source": [
    "a = TypeDeserializer()"
   ]
  },
  {
   "cell_type": "code",
   "execution_count": null,
   "id": "215fc42f-bafc-4f4e-8cca-41e8e1ce310e",
   "metadata": {},
   "outputs": [],
   "source": []
  },
  {
   "cell_type": "code",
   "execution_count": null,
   "id": "fef00d79-f6f7-421c-8226-4b32ca745618",
   "metadata": {},
   "outputs": [],
   "source": [
    "import json\n",
    "import boto3\n",
    "from boto3.dynamodb.types import TypeSerializer\n",
    "import uuid\n",
    "\n",
    "dynamodb = boto3.client('dynamodb') ## ogni servizio che voglio utilizzare devo crea un istanza di client\n",
    "ser = TypeSerializer()\n",
    "TABLENAME = \"Users\"\n",
    "\n",
    "class user:\n",
    "    def __init__(self,body):\n",
    "        self.msg = \"\"\n",
    "        self.isValid = False\n",
    "        res,msg = self.__check_variable(body,\"username\",str)\n",
    "        if res:\n",
    "            self.body = body\n",
    "            self.body[\"ID\"] = self.__generate_ID()\n",
    "            self.username = msg\n",
    "            self.isValid = True\n",
    "        else:\n",
    "            self.msg = msg\n",
    "            \n",
    "    def __check_variable(self,body,prop_name,prop_type):\n",
    "        if not prop_name in body.keys():\n",
    "            return False,f\"{prop_name}  not present in request\"\n",
    "        username = body[prop_name]\n",
    "        if not isinstance(username,prop_type):\n",
    "            print(\"SORETA\")\n",
    "            return False,f\"{prop_name} is not of type {prop_type}\"\n",
    "        return True,username\n",
    "    \n",
    "    def __generate_ID(self):\n",
    "        return uuid.uuid4().hex\n",
    "    \n",
    "    def send_request(self,ser:boto3.dynamodb.types.TypeSerializer,dynamodb,tableName):\n",
    "        if self.isValid:\n",
    "            req = ser.serialize(self.body)[\"M\"]\n",
    "            try:\n",
    "                dynamodb.put_item(TableName=tableName, Item=req)\n",
    "                self.msg = self.body[\"ID\"]\n",
    "            except Exception as e:\n",
    "                self.msg = \"errore nell inserimento dello user {}: {}\".format(self.username,e)\n",
    "\n",
    "\n",
    "def lambda_handler(event, context):\n",
    "    # TODO implement\n",
    "    messages = []\n",
    "    req = event[\"body\"]\n",
    "    if isinstance(req,list):\n",
    "        for user_info in req:\n",
    "            print(user_info)\n",
    "            usr =  user(user_info)\n",
    "            usr.send_request(ser,dynamodb,TABLENAME)\n",
    "            messages.append(usr.msg)\n",
    "    else:\n",
    "        messages.append(\"il body deve contenere un array di utenti\")\n",
    "        \n",
    "    if len(messages )== 0:\n",
    "        statusCode = 200\n",
    "        body = \"ok\"\n",
    "    else:\n",
    "        statusCode = 400\n",
    "        body = messages\n",
    "    return {\n",
    "        'statusCode': statusCode,\n",
    "        'body': json.dumps(body)\n",
    "}\n",
    "    \n",
    "    \n"
   ]
  },
  {
   "cell_type": "markdown",
   "id": "8113285e-647c-4e7e-a2e1-bfafbe511c49",
   "metadata": {},
   "source": [
    "**esempio chiamata**"
   ]
  },
  {
   "cell_type": "code",
   "execution_count": 114,
   "id": "5a156847-0bdc-4e76-9f15-d579f7334f3d",
   "metadata": {},
   "outputs": [],
   "source": [
    "url = \"https://5yi8g28lu8.execute-api.us-east-1.amazonaws.com/createUser\""
   ]
  },
  {
   "cell_type": "markdown",
   "id": "469784fc-838c-49e1-aa70-97a1a561f52c",
   "metadata": {},
   "source": [
    "la chiamata è fattibile in POST"
   ]
  },
  {
   "cell_type": "code",
   "execution_count": 115,
   "id": "0f214dff-5f51-4aac-a5bf-50f5430617f6",
   "metadata": {},
   "outputs": [],
   "source": [
    "data = [\n",
    "    {\n",
    "    \"username\":\"pasq47\",\n",
    "    \"nome\":\"ciccio\",\n",
    "    \"cognome\":\"pincopallino\"\n",
    "    },\n",
    "    {\n",
    "    \"cognome\":\"stefannonia\"\n",
    "    },\n",
    "    {\n",
    "    \"username\":55,\n",
    "    \"cognome\":\"stefannonia\"\n",
    "    },\n",
    "]"
   ]
  },
  {
   "cell_type": "code",
   "execution_count": 116,
   "id": "363bc5c0-a54e-4167-b2e9-e96a23c96b8a",
   "metadata": {},
   "outputs": [],
   "source": [
    "res = requests.post(url,json=data)"
   ]
  },
  {
   "cell_type": "code",
   "execution_count": 117,
   "id": "44219f9f-529f-46d1-8432-d4b08bd9a149",
   "metadata": {},
   "outputs": [
    {
     "name": "stdout",
     "output_type": "stream",
     "text": [
      "['bfaf6e9602684016b81b071a526bc683', 'username  not present in request', \"user 55 is not of type <class 'str'>\"]\n"
     ]
    }
   ],
   "source": [
    "print(res.json())"
   ]
  },
  {
   "cell_type": "code",
   "execution_count": null,
   "id": "44b561e6-71a0-43e5-9271-c9d4d5e330f7",
   "metadata": {},
   "outputs": [],
   "source": []
  },
  {
   "cell_type": "markdown",
   "id": "8a71c7a2-4efa-41df-ab7e-9375be266cbe",
   "metadata": {
    "tags": []
   },
   "source": [
    "## <span style=\"color:red\">GETUSERBYID</span>"
   ]
  },
  {
   "cell_type": "markdown",
   "id": "dee19863-f071-406c-a034-e80a135758b7",
   "metadata": {},
   "source": [
    "**lambda**"
   ]
  },
  {
   "cell_type": "code",
   "execution_count": null,
   "id": "bd0fc8a3-e90d-4fb1-9057-b87a253317be",
   "metadata": {},
   "outputs": [],
   "source": [
    "import json\n",
    "import boto3\n",
    "from boto3.dynamodb.types import TypeDeserializer\n",
    "\n",
    "dynamoDB = boto3.client(\"dynamodb\")\n",
    "TABLENAME = \"Users\"\n",
    "def lambda_handler(event, context):\n",
    "    req = event[\"queryStringParameters\"]\n",
    "    if not \"ID\" in req.keys():\n",
    "        return {\n",
    "            'statusCode': 200,\n",
    "            'body': json.dumps(\"no ID in request\")\n",
    "        }\n",
    "    ID =  req[\"ID\"]\n",
    "    ID = \"dd6e857c782448a8811289e5853a73e0\"\n",
    "    if isinstance(ID,str):\n",
    "        res = dynamoDB.get_item(\n",
    "            TableName=TABLENAME,\n",
    "            Key={\n",
    "                'ID': {\n",
    "                  'S': ID\n",
    "                }\n",
    "            }\n",
    "          )\n",
    "        if \"Item\" in res.keys():\n",
    "            item = res[\"Item\"]\n",
    "            des = TypeDeserializer()\n",
    "            print(item)\n",
    "            body = {k: des.deserialize(v) for k,v in item.items()}\n",
    "        else:\n",
    "            body = \"user not found\"\n",
    "    else:\n",
    "        body = \"ID is not fo type string\"\n",
    "         \n",
    "    return {\n",
    "        'statusCode': 200,\n",
    "        'body': json.dumps(body)\n",
    "    }\n"
   ]
  },
  {
   "cell_type": "markdown",
   "id": "a8a1f78f-11f7-4d44-8619-1fe775bc1cee",
   "metadata": {},
   "source": [
    "**esempio chiamata**"
   ]
  },
  {
   "cell_type": "markdown",
   "id": "965aaed2-23d7-4b4d-86d0-92d351f92d6b",
   "metadata": {},
   "source": [
    "la chiamata è in get"
   ]
  },
  {
   "cell_type": "code",
   "execution_count": 191,
   "id": "5efd1e52-09ab-47b8-a8f7-2db3d659d446",
   "metadata": {},
   "outputs": [],
   "source": [
    "url = \"https://5yi8g28lu8.execute-api.us-east-1.amazonaws.com/getUserById\""
   ]
  },
  {
   "cell_type": "code",
   "execution_count": 270,
   "id": "0f88b8ca-fd98-40fd-bb1a-3ae50ef999d4",
   "metadata": {},
   "outputs": [
    {
     "data": {
      "text/plain": [
       "{'username': 'pasq47',\n",
       " 'nome': 'ciccio',\n",
       " 'ID': 'dd6e857c782448a8811289e5853a73e0'}"
      ]
     },
     "execution_count": 270,
     "metadata": {},
     "output_type": "execute_result"
    }
   ],
   "source": [
    "params = {\"ID\":\"dd6e857c782448a8811289e5853a73e0\"}\n",
    "requests.get(url,params=params).json()"
   ]
  },
  {
   "cell_type": "code",
   "execution_count": 271,
   "id": "f888ad7c-8418-4e0b-96c4-187cef34e4bf",
   "metadata": {},
   "outputs": [
    {
     "data": {
      "text/plain": [
       "'user not found'"
      ]
     },
     "execution_count": 271,
     "metadata": {},
     "output_type": "execute_result"
    }
   ],
   "source": [
    "params = {\"ID\":\"false\"}\n",
    "requests.get(url,params=params).json()"
   ]
  },
  {
   "cell_type": "code",
   "execution_count": null,
   "id": "8223d048-68d6-40a9-89ff-7a3e71aa8df1",
   "metadata": {},
   "outputs": [],
   "source": []
  }
 ],
 "metadata": {
  "kernelspec": {
   "display_name": "Python 3 (ipykernel)",
   "language": "python",
   "name": "python3"
  },
  "language_info": {
   "codemirror_mode": {
    "name": "ipython",
    "version": 3
   },
   "file_extension": ".py",
   "mimetype": "text/x-python",
   "name": "python",
   "nbconvert_exporter": "python",
   "pygments_lexer": "ipython3",
   "version": "3.9.12"
  }
 },
 "nbformat": 4,
 "nbformat_minor": 5
}
